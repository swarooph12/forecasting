{
 "cells": [
  {
   "cell_type": "code",
   "execution_count": 18,
   "metadata": {},
   "outputs": [
    {
     "name": "stdout",
     "output_type": "stream",
     "text": [
      "Requirement already satisfied: statsmodels in c:\\users\\user\\appdata\\local\\programs\\python\\python37\\lib\\site-packages (0.10.2)\n",
      "Requirement already satisfied: patsy>=0.4.0 in c:\\users\\user\\appdata\\local\\programs\\python\\python37\\lib\\site-packages (from statsmodels) (0.5.1)\n",
      "Requirement already satisfied: numpy>=1.11 in c:\\users\\user\\appdata\\local\\programs\\python\\python37\\lib\\site-packages (from statsmodels) (1.17.3)\n",
      "Requirement already satisfied: pandas>=0.19 in c:\\users\\user\\appdata\\local\\programs\\python\\python37\\lib\\site-packages (from statsmodels) (0.25.3)\n",
      "Requirement already satisfied: scipy>=0.18 in c:\\users\\user\\appdata\\local\\programs\\python\\python37\\lib\\site-packages (from statsmodels) (1.4.1)\n",
      "Requirement already satisfied: six in c:\\users\\user\\appdata\\local\\programs\\python\\python37\\lib\\site-packages (from patsy>=0.4.0->statsmodels) (1.13.0)\n",
      "Requirement already satisfied: python-dateutil>=2.6.1 in c:\\users\\user\\appdata\\local\\programs\\python\\python37\\lib\\site-packages (from pandas>=0.19->statsmodels) (2.8.1)\n",
      "Requirement already satisfied: pytz>=2017.2 in c:\\users\\user\\appdata\\local\\programs\\python\\python37\\lib\\site-packages (from pandas>=0.19->statsmodels) (2019.3)\n"
     ]
    },
    {
     "name": "stderr",
     "output_type": "stream",
     "text": [
      "WARNING: You are using pip version 19.2.3, however version 19.3.1 is available.\n",
      "You should consider upgrading via the 'python -m pip install --upgrade pip' command.\n"
     ]
    }
   ],
   "source": [
    "!pip install statsmodels"
   ]
  },
  {
   "cell_type": "markdown",
   "metadata": {},
   "source": [
    "# Report"
   ]
  },
  {
   "cell_type": "code",
   "execution_count": 19,
   "metadata": {
    "scrolled": true
   },
   "outputs": [
    {
     "data": {
      "text/html": [
       "\n",
       "        <iframe\n",
       "            width=\"1000\"\n",
       "            height=\"600\"\n",
       "            src=\"report.pdf\"\n",
       "            frameborder=\"0\"\n",
       "            allowfullscreen\n",
       "        ></iframe>\n",
       "        "
      ],
      "text/plain": [
       "<IPython.lib.display.IFrame at 0x1e1c165c608>"
      ]
     },
     "execution_count": 19,
     "metadata": {},
     "output_type": "execute_result"
    }
   ],
   "source": [
    "from IPython.display import IFrame\n",
    "IFrame(\"report.pdf\", width=1000, height=600)"
   ]
  },
  {
   "cell_type": "markdown",
   "metadata": {},
   "source": [
    "# Required Libraries"
   ]
  },
  {
   "cell_type": "code",
   "execution_count": null,
   "metadata": {},
   "outputs": [],
   "source": []
  },
  {
   "cell_type": "code",
   "execution_count": 15,
   "metadata": {},
   "outputs": [],
   "source": [
    "import pandas as pd\n",
    "import numpy as np\n",
    "import statsmodels.api as sm\n",
    "import matplotlib.pyplot as plt\n",
    "import seaborn as sns\n",
    "%matplotlib inline"
   ]
  },
  {
   "cell_type": "markdown",
   "metadata": {},
   "source": [
    "### Loading Data"
   ]
  },
  {
   "cell_type": "code",
   "execution_count": 16,
   "metadata": {},
   "outputs": [
    {
     "ename": "FileNotFoundError",
     "evalue": "[Errno 2] File b'sales.txt' does not exist: b'sales.txt'",
     "output_type": "error",
     "traceback": [
      "\u001b[1;31m---------------------------------------------------------------------------\u001b[0m",
      "\u001b[1;31mFileNotFoundError\u001b[0m                         Traceback (most recent call last)",
      "\u001b[1;32m<ipython-input-16-002668a06911>\u001b[0m in \u001b[0;36m<module>\u001b[1;34m\u001b[0m\n\u001b[1;32m----> 1\u001b[1;33m \u001b[0mdf_sales\u001b[0m \u001b[1;33m=\u001b[0m \u001b[0mpd\u001b[0m\u001b[1;33m.\u001b[0m\u001b[0mread_csv\u001b[0m\u001b[1;33m(\u001b[0m\u001b[1;34m\"sales.txt\"\u001b[0m\u001b[1;33m,\u001b[0m \u001b[0msep\u001b[0m\u001b[1;33m=\u001b[0m\u001b[1;34m\";\"\u001b[0m\u001b[1;33m)\u001b[0m\u001b[1;33m\u001b[0m\u001b[1;33m\u001b[0m\u001b[0m\n\u001b[0m\u001b[0;32m      2\u001b[0m \u001b[0mdf_article\u001b[0m \u001b[1;33m=\u001b[0m \u001b[0mpd\u001b[0m\u001b[1;33m.\u001b[0m\u001b[0mread_csv\u001b[0m\u001b[1;33m(\u001b[0m\u001b[1;34m\"article_attributes.txt\"\u001b[0m\u001b[1;33m,\u001b[0m \u001b[0msep\u001b[0m\u001b[1;33m=\u001b[0m\u001b[1;34m\";\"\u001b[0m\u001b[1;33m)\u001b[0m\u001b[1;33m\u001b[0m\u001b[1;33m\u001b[0m\u001b[0m\n",
      "\u001b[1;32mc:\\users\\user\\appdata\\local\\programs\\python\\python37\\lib\\site-packages\\pandas\\io\\parsers.py\u001b[0m in \u001b[0;36mparser_f\u001b[1;34m(filepath_or_buffer, sep, delimiter, header, names, index_col, usecols, squeeze, prefix, mangle_dupe_cols, dtype, engine, converters, true_values, false_values, skipinitialspace, skiprows, skipfooter, nrows, na_values, keep_default_na, na_filter, verbose, skip_blank_lines, parse_dates, infer_datetime_format, keep_date_col, date_parser, dayfirst, cache_dates, iterator, chunksize, compression, thousands, decimal, lineterminator, quotechar, quoting, doublequote, escapechar, comment, encoding, dialect, error_bad_lines, warn_bad_lines, delim_whitespace, low_memory, memory_map, float_precision)\u001b[0m\n\u001b[0;32m    683\u001b[0m         )\n\u001b[0;32m    684\u001b[0m \u001b[1;33m\u001b[0m\u001b[0m\n\u001b[1;32m--> 685\u001b[1;33m         \u001b[1;32mreturn\u001b[0m \u001b[0m_read\u001b[0m\u001b[1;33m(\u001b[0m\u001b[0mfilepath_or_buffer\u001b[0m\u001b[1;33m,\u001b[0m \u001b[0mkwds\u001b[0m\u001b[1;33m)\u001b[0m\u001b[1;33m\u001b[0m\u001b[1;33m\u001b[0m\u001b[0m\n\u001b[0m\u001b[0;32m    686\u001b[0m \u001b[1;33m\u001b[0m\u001b[0m\n\u001b[0;32m    687\u001b[0m     \u001b[0mparser_f\u001b[0m\u001b[1;33m.\u001b[0m\u001b[0m__name__\u001b[0m \u001b[1;33m=\u001b[0m \u001b[0mname\u001b[0m\u001b[1;33m\u001b[0m\u001b[1;33m\u001b[0m\u001b[0m\n",
      "\u001b[1;32mc:\\users\\user\\appdata\\local\\programs\\python\\python37\\lib\\site-packages\\pandas\\io\\parsers.py\u001b[0m in \u001b[0;36m_read\u001b[1;34m(filepath_or_buffer, kwds)\u001b[0m\n\u001b[0;32m    455\u001b[0m \u001b[1;33m\u001b[0m\u001b[0m\n\u001b[0;32m    456\u001b[0m     \u001b[1;31m# Create the parser.\u001b[0m\u001b[1;33m\u001b[0m\u001b[1;33m\u001b[0m\u001b[1;33m\u001b[0m\u001b[0m\n\u001b[1;32m--> 457\u001b[1;33m     \u001b[0mparser\u001b[0m \u001b[1;33m=\u001b[0m \u001b[0mTextFileReader\u001b[0m\u001b[1;33m(\u001b[0m\u001b[0mfp_or_buf\u001b[0m\u001b[1;33m,\u001b[0m \u001b[1;33m**\u001b[0m\u001b[0mkwds\u001b[0m\u001b[1;33m)\u001b[0m\u001b[1;33m\u001b[0m\u001b[1;33m\u001b[0m\u001b[0m\n\u001b[0m\u001b[0;32m    458\u001b[0m \u001b[1;33m\u001b[0m\u001b[0m\n\u001b[0;32m    459\u001b[0m     \u001b[1;32mif\u001b[0m \u001b[0mchunksize\u001b[0m \u001b[1;32mor\u001b[0m \u001b[0miterator\u001b[0m\u001b[1;33m:\u001b[0m\u001b[1;33m\u001b[0m\u001b[1;33m\u001b[0m\u001b[0m\n",
      "\u001b[1;32mc:\\users\\user\\appdata\\local\\programs\\python\\python37\\lib\\site-packages\\pandas\\io\\parsers.py\u001b[0m in \u001b[0;36m__init__\u001b[1;34m(self, f, engine, **kwds)\u001b[0m\n\u001b[0;32m    893\u001b[0m             \u001b[0mself\u001b[0m\u001b[1;33m.\u001b[0m\u001b[0moptions\u001b[0m\u001b[1;33m[\u001b[0m\u001b[1;34m\"has_index_names\"\u001b[0m\u001b[1;33m]\u001b[0m \u001b[1;33m=\u001b[0m \u001b[0mkwds\u001b[0m\u001b[1;33m[\u001b[0m\u001b[1;34m\"has_index_names\"\u001b[0m\u001b[1;33m]\u001b[0m\u001b[1;33m\u001b[0m\u001b[1;33m\u001b[0m\u001b[0m\n\u001b[0;32m    894\u001b[0m \u001b[1;33m\u001b[0m\u001b[0m\n\u001b[1;32m--> 895\u001b[1;33m         \u001b[0mself\u001b[0m\u001b[1;33m.\u001b[0m\u001b[0m_make_engine\u001b[0m\u001b[1;33m(\u001b[0m\u001b[0mself\u001b[0m\u001b[1;33m.\u001b[0m\u001b[0mengine\u001b[0m\u001b[1;33m)\u001b[0m\u001b[1;33m\u001b[0m\u001b[1;33m\u001b[0m\u001b[0m\n\u001b[0m\u001b[0;32m    896\u001b[0m \u001b[1;33m\u001b[0m\u001b[0m\n\u001b[0;32m    897\u001b[0m     \u001b[1;32mdef\u001b[0m \u001b[0mclose\u001b[0m\u001b[1;33m(\u001b[0m\u001b[0mself\u001b[0m\u001b[1;33m)\u001b[0m\u001b[1;33m:\u001b[0m\u001b[1;33m\u001b[0m\u001b[1;33m\u001b[0m\u001b[0m\n",
      "\u001b[1;32mc:\\users\\user\\appdata\\local\\programs\\python\\python37\\lib\\site-packages\\pandas\\io\\parsers.py\u001b[0m in \u001b[0;36m_make_engine\u001b[1;34m(self, engine)\u001b[0m\n\u001b[0;32m   1133\u001b[0m     \u001b[1;32mdef\u001b[0m \u001b[0m_make_engine\u001b[0m\u001b[1;33m(\u001b[0m\u001b[0mself\u001b[0m\u001b[1;33m,\u001b[0m \u001b[0mengine\u001b[0m\u001b[1;33m=\u001b[0m\u001b[1;34m\"c\"\u001b[0m\u001b[1;33m)\u001b[0m\u001b[1;33m:\u001b[0m\u001b[1;33m\u001b[0m\u001b[1;33m\u001b[0m\u001b[0m\n\u001b[0;32m   1134\u001b[0m         \u001b[1;32mif\u001b[0m \u001b[0mengine\u001b[0m \u001b[1;33m==\u001b[0m \u001b[1;34m\"c\"\u001b[0m\u001b[1;33m:\u001b[0m\u001b[1;33m\u001b[0m\u001b[1;33m\u001b[0m\u001b[0m\n\u001b[1;32m-> 1135\u001b[1;33m             \u001b[0mself\u001b[0m\u001b[1;33m.\u001b[0m\u001b[0m_engine\u001b[0m \u001b[1;33m=\u001b[0m \u001b[0mCParserWrapper\u001b[0m\u001b[1;33m(\u001b[0m\u001b[0mself\u001b[0m\u001b[1;33m.\u001b[0m\u001b[0mf\u001b[0m\u001b[1;33m,\u001b[0m \u001b[1;33m**\u001b[0m\u001b[0mself\u001b[0m\u001b[1;33m.\u001b[0m\u001b[0moptions\u001b[0m\u001b[1;33m)\u001b[0m\u001b[1;33m\u001b[0m\u001b[1;33m\u001b[0m\u001b[0m\n\u001b[0m\u001b[0;32m   1136\u001b[0m         \u001b[1;32melse\u001b[0m\u001b[1;33m:\u001b[0m\u001b[1;33m\u001b[0m\u001b[1;33m\u001b[0m\u001b[0m\n\u001b[0;32m   1137\u001b[0m             \u001b[1;32mif\u001b[0m \u001b[0mengine\u001b[0m \u001b[1;33m==\u001b[0m \u001b[1;34m\"python\"\u001b[0m\u001b[1;33m:\u001b[0m\u001b[1;33m\u001b[0m\u001b[1;33m\u001b[0m\u001b[0m\n",
      "\u001b[1;32mc:\\users\\user\\appdata\\local\\programs\\python\\python37\\lib\\site-packages\\pandas\\io\\parsers.py\u001b[0m in \u001b[0;36m__init__\u001b[1;34m(self, src, **kwds)\u001b[0m\n\u001b[0;32m   1915\u001b[0m         \u001b[0mkwds\u001b[0m\u001b[1;33m[\u001b[0m\u001b[1;34m\"usecols\"\u001b[0m\u001b[1;33m]\u001b[0m \u001b[1;33m=\u001b[0m \u001b[0mself\u001b[0m\u001b[1;33m.\u001b[0m\u001b[0musecols\u001b[0m\u001b[1;33m\u001b[0m\u001b[1;33m\u001b[0m\u001b[0m\n\u001b[0;32m   1916\u001b[0m \u001b[1;33m\u001b[0m\u001b[0m\n\u001b[1;32m-> 1917\u001b[1;33m         \u001b[0mself\u001b[0m\u001b[1;33m.\u001b[0m\u001b[0m_reader\u001b[0m \u001b[1;33m=\u001b[0m \u001b[0mparsers\u001b[0m\u001b[1;33m.\u001b[0m\u001b[0mTextReader\u001b[0m\u001b[1;33m(\u001b[0m\u001b[0msrc\u001b[0m\u001b[1;33m,\u001b[0m \u001b[1;33m**\u001b[0m\u001b[0mkwds\u001b[0m\u001b[1;33m)\u001b[0m\u001b[1;33m\u001b[0m\u001b[1;33m\u001b[0m\u001b[0m\n\u001b[0m\u001b[0;32m   1918\u001b[0m         \u001b[0mself\u001b[0m\u001b[1;33m.\u001b[0m\u001b[0munnamed_cols\u001b[0m \u001b[1;33m=\u001b[0m \u001b[0mself\u001b[0m\u001b[1;33m.\u001b[0m\u001b[0m_reader\u001b[0m\u001b[1;33m.\u001b[0m\u001b[0munnamed_cols\u001b[0m\u001b[1;33m\u001b[0m\u001b[1;33m\u001b[0m\u001b[0m\n\u001b[0;32m   1919\u001b[0m \u001b[1;33m\u001b[0m\u001b[0m\n",
      "\u001b[1;32mpandas/_libs/parsers.pyx\u001b[0m in \u001b[0;36mpandas._libs.parsers.TextReader.__cinit__\u001b[1;34m()\u001b[0m\n",
      "\u001b[1;32mpandas/_libs/parsers.pyx\u001b[0m in \u001b[0;36mpandas._libs.parsers.TextReader._setup_parser_source\u001b[1;34m()\u001b[0m\n",
      "\u001b[1;31mFileNotFoundError\u001b[0m: [Errno 2] File b'sales.txt' does not exist: b'sales.txt'"
     ]
    }
   ],
   "source": [
    "df_sales = pd.read_csv(\"sales.txt\", sep=\";\")\n",
    "df_article = pd.read_csv(\"article_attributes.txt\", sep=\";\")"
   ]
  },
  {
   "cell_type": "code",
   "execution_count": null,
   "metadata": {},
   "outputs": [],
   "source": [
    "display(df_sales.head())\n",
    "display(df_article.head())\n",
    "\n",
    "display(df_sales.describe())\n",
    "display(df_article.describe())"
   ]
  },
  {
   "cell_type": "markdown",
   "metadata": {},
   "source": [
    "### Merging Files"
   ]
  },
  {
   "cell_type": "code",
   "execution_count": null,
   "metadata": {},
   "outputs": [],
   "source": [
    "df_all = pd.merge(df_sales, df_article, left_on='article', right_on='article',how='left')\n",
    "\n",
    "display(df_all.head())\n",
    "display(df_all.describe())"
   ]
  },
  {
   "cell_type": "code",
   "execution_count": null,
   "metadata": {},
   "outputs": [],
   "source": [
    "col = df_all.columns.tolist()\n",
    "col.remove(\"retailweek\")\n",
    "\n",
    "date_idx = pd.DatetimeIndex(df_all.retailweek.values.tolist(), name=\"date\")\n",
    "\n",
    "df_all_ts = pd.DataFrame(data=df_all[col].values.tolist(), index=date_idx, columns=col)\n",
    "df_all_ts.sort_index(inplace=True)\n",
    "\n",
    "countries = df_all_ts.country.unique()\n",
    "display(countries)\n",
    "\n",
    "display(df_all_ts.head())\n",
    "display(df_all_ts.describe())\n",
    "\n",
    "display(df_all_ts.dtypes)"
   ]
  },
  {
   "cell_type": "code",
   "execution_count": null,
   "metadata": {},
   "outputs": [],
   "source": [
    "def encode(x):\n",
    "    if x.dtype is np.dtype('O') and x.name != 'country':\n",
    "        return x.astype('category').cat.codes\n",
    "    return x\n",
    "\n",
    "def normalize(df):\n",
    "    return (df - df.mean()) / (df.max() - df.min())"
   ]
  },
  {
   "cell_type": "markdown",
   "metadata": {},
   "source": [
    "### Correlations of Features"
   ]
  },
  {
   "cell_type": "code",
   "execution_count": null,
   "metadata": {
    "scrolled": false
   },
   "outputs": [],
   "source": [
    "df_encoded = df_all_ts.apply(encode)\n",
    "df_encoded.groupby(['country']).corr()\n",
    "fig, axes = plt.subplots(1, len(countries), figsize=(20, 5))\n",
    "for i, c in enumerate(countries):\n",
    "    ax = sns.heatmap(df_encoded.groupby(['country']).corr().xs(c), linewidths=1, ax = axes[i], square=True)\n",
    "    ax.set_title(c)"
   ]
  },
  {
   "cell_type": "markdown",
   "metadata": {},
   "source": [
    "### Selecting Specific Features by 'groupby'"
   ]
  },
  {
   "cell_type": "code",
   "execution_count": 7,
   "metadata": {},
   "outputs": [
    {
     "ename": "NameError",
     "evalue": "name 'df_all_ts' is not defined",
     "output_type": "error",
     "traceback": [
      "\u001b[1;31m---------------------------------------------------------------------------\u001b[0m",
      "\u001b[1;31mNameError\u001b[0m                                 Traceback (most recent call last)",
      "\u001b[1;32m<ipython-input-7-35b83d779902>\u001b[0m in \u001b[0;36m<module>\u001b[1;34m\u001b[0m\n\u001b[1;32m----> 1\u001b[1;33m \u001b[0mdf_promo12_sales_by_country_date\u001b[0m \u001b[1;33m=\u001b[0m \u001b[0mdf_all_ts\u001b[0m\u001b[1;33m.\u001b[0m\u001b[0mgroupby\u001b[0m\u001b[1;33m(\u001b[0m\u001b[1;33m[\u001b[0m\u001b[1;34m'country'\u001b[0m\u001b[1;33m,\u001b[0m \u001b[1;34m'date'\u001b[0m\u001b[1;33m]\u001b[0m\u001b[1;33m)\u001b[0m\u001b[1;33m[\u001b[0m\u001b[1;33m[\u001b[0m\u001b[1;34m\"promo1\"\u001b[0m\u001b[1;33m,\u001b[0m \u001b[1;34m\"promo2\"\u001b[0m\u001b[1;33m,\u001b[0m \u001b[1;34m\"sales\"\u001b[0m\u001b[1;33m]\u001b[0m\u001b[1;33m]\u001b[0m\u001b[1;33m.\u001b[0m\u001b[0msum\u001b[0m\u001b[1;33m(\u001b[0m\u001b[1;33m)\u001b[0m\u001b[1;33m\u001b[0m\u001b[1;33m\u001b[0m\u001b[0m\n\u001b[0m\u001b[0;32m      2\u001b[0m \u001b[0mdisplay\u001b[0m\u001b[1;33m(\u001b[0m\u001b[0mdf_promo12_sales_by_country_date\u001b[0m\u001b[1;33m)\u001b[0m\u001b[1;33m\u001b[0m\u001b[1;33m\u001b[0m\u001b[0m\n\u001b[0;32m      3\u001b[0m \u001b[1;33m\u001b[0m\u001b[0m\n\u001b[0;32m      4\u001b[0m \u001b[0mdf_sales_by_country_date\u001b[0m \u001b[1;33m=\u001b[0m \u001b[0mdf_promo12_sales_by_country_date\u001b[0m\u001b[1;33m[\u001b[0m\u001b[1;34m'sales'\u001b[0m\u001b[1;33m]\u001b[0m\u001b[1;33m\u001b[0m\u001b[1;33m\u001b[0m\u001b[0m\n\u001b[0;32m      5\u001b[0m \u001b[0midx\u001b[0m \u001b[1;33m=\u001b[0m \u001b[0mdf_sales_by_country_date\u001b[0m\u001b[1;33m.\u001b[0m\u001b[0mxs\u001b[0m\u001b[1;33m(\u001b[0m\u001b[0mcountries\u001b[0m\u001b[1;33m[\u001b[0m\u001b[1;36m0\u001b[0m\u001b[1;33m]\u001b[0m\u001b[1;33m)\u001b[0m\u001b[1;33m.\u001b[0m\u001b[0mindex\u001b[0m\u001b[1;33m\u001b[0m\u001b[1;33m\u001b[0m\u001b[0m\n",
      "\u001b[1;31mNameError\u001b[0m: name 'df_all_ts' is not defined"
     ]
    }
   ],
   "source": [
    "df_promo12_sales_by_country_date = df_all_ts.groupby(['country', 'date'])[[\"promo1\", \"promo2\", \"sales\"]].sum()\n",
    "display(df_promo12_sales_by_country_date)\n",
    "\n",
    "df_sales_by_country_date = df_promo12_sales_by_country_date['sales']\n",
    "idx = df_sales_by_country_date.xs(countries[0]).index"
   ]
  },
  {
   "cell_type": "markdown",
   "metadata": {},
   "source": [
    "### Effects of Promos on Sales "
   ]
  },
  {
   "cell_type": "code",
   "execution_count": null,
   "metadata": {
    "scrolled": false
   },
   "outputs": [],
   "source": [
    "df_norm = normalize(df_promo12_sales_by_country_date)\n",
    "\n",
    "fig, axes = plt.subplots(1, len(countries), figsize=(30, 5))\n",
    "for i, c in enumerate(countries):\n",
    "    df_norm.xs(c).plot(title = c, ax = axes[i])"
   ]
  },
  {
   "cell_type": "code",
   "execution_count": null,
   "metadata": {},
   "outputs": [],
   "source": [
    "fig, axes = plt.subplots(1, len(countries), figsize=(15, 3))\n",
    "for i, c in enumerate(countries):\n",
    "    ax = sns.heatmap(df_norm.xs(c).corr(), linewidths=1, ax = axes[i], square=True)\n",
    "    ax.set_title(c)"
   ]
  },
  {
   "cell_type": "code",
   "execution_count": null,
   "metadata": {},
   "outputs": [],
   "source": [
    "fmt_promo1 = '{}_promo1'\n",
    "fmt_promo2 = '{}_promo2'\n",
    "\n",
    "df_tmp = pd.DataFrame(index=idx)\n",
    "\n",
    "df_promo1_by_date_country= df_promo12_sales_by_country_date['promo1']\n",
    "df_promo2_by_date_country = df_promo12_sales_by_country_date['promo2']\n",
    "for i, c in enumerate(countries):\n",
    "    \n",
    "    ncol = fmt_promo1.format(c)\n",
    "    df_tmp[ncol] = df_promo1_by_date_country.xs(c)\n",
    "    \n",
    "    ncol = fmt_promo2.format(c)\n",
    "    df_tmp[ncol] = df_promo2_by_date_country.xs(c)\n",
    "\n",
    "figsize = (30,5)\n",
    "df_tmp.plot.bar(figsize = figsize, stacked=True)"
   ]
  },
  {
   "cell_type": "code",
   "execution_count": null,
   "metadata": {},
   "outputs": [],
   "source": [
    "sns.heatmap(df_tmp.corr(), linewidths=1, square=True)"
   ]
  },
  {
   "cell_type": "markdown",
   "metadata": {},
   "source": [
    "# Time Series Analysis - Decomposition"
   ]
  },
  {
   "cell_type": "code",
   "execution_count": null,
   "metadata": {
    "scrolled": false
   },
   "outputs": [],
   "source": [
    "df_obs = pd.DataFrame(index=idx)\n",
    "df_tre = pd.DataFrame(index=idx)\n",
    "df_ses = pd.DataFrame(index=idx)\n",
    "df_res = pd.DataFrame(index=idx)\n",
    "\n",
    "decompositions = {}\n",
    "components = [\"Observed\", \"Trend\", \"Seasonal\", \"Residual\"]\n",
    "\n",
    "df_sales_by_country_date = df_promo12_sales_by_country_date['sales']\n",
    "\n",
    "freq = 7\n",
    "for i, c in enumerate(countries):\n",
    "    decomposition = sm.tsa.seasonal_decompose(df_sales_by_country_date.xs(c), model='additive', freq = freq)\n",
    "    df_obs[c] = decomposition.observed\n",
    "    df_tre[c] = decomposition.trend\n",
    "    df_ses[c] = decomposition.seasonal\n",
    "    df_res[c] = decomposition.resid\n",
    "    \n",
    "    decompositions[components[0]] = df_obs\n",
    "    decompositions[components[1]] = df_tre\n",
    "    decompositions[components[2]] = df_ses\n",
    "    decompositions[components[3]] = df_res\n",
    "    \n",
    "figsize = (15,5)\n",
    "for i, d in enumerate(components):\n",
    "    df = decompositions[d]\n",
    "    df.plot(grid = True, title = d, figsize = figsize)"
   ]
  },
  {
   "cell_type": "markdown",
   "metadata": {},
   "source": [
    "### Comparing Residual Components with Promos"
   ]
  },
  {
   "cell_type": "code",
   "execution_count": null,
   "metadata": {},
   "outputs": [],
   "source": [
    "fmt_res = '{}_residual'\n",
    "\n",
    "fig, axes = plt.subplots(1, len(countries), figsize=(30, 5))\n",
    "for i, c in enumerate(countries):\n",
    "\n",
    "    df_tmp = pd.DataFrame(index=idx)\n",
    "    df_res = decompositions['Residual']\n",
    "    df_tmp[fmt_res.format(c)] = df_res[c]\n",
    "    df_tmp[fmt_promo1.format(c)] = df_promo1_by_date_country.xs(c)\n",
    "    df_tmp[fmt_promo2.format(c)] = df_promo2_by_date_country.xs(c)\n",
    "    df_tmp = normalize(df_tmp)\n",
    "    df_tmp.plot(title = fmt_res.format(c), ax = axes[i])"
   ]
  },
  {
   "cell_type": "code",
   "execution_count": null,
   "metadata": {},
   "outputs": [],
   "source": [
    "fig, axes = plt.subplots(1, len(decompositions), sharex=True, sharey=True, figsize=(16, 4))\n",
    "\n",
    "for i, d in enumerate(components):\n",
    "    df = decompositions[d]\n",
    "    ax = sns.heatmap(df.corr(), annot=True, fmt=\".2f\", linewidths=1, ax = axes[i], square=True)\n",
    "    ax.set_title(d)"
   ]
  },
  {
   "cell_type": "markdown",
   "metadata": {},
   "source": [
    "### Final Checking of Residual Component by Autocorrelation, Histogram and Boxplot"
   ]
  },
  {
   "cell_type": "code",
   "execution_count": null,
   "metadata": {
    "scrolled": false
   },
   "outputs": [],
   "source": [
    "# df_res['day'] = list(map(lambda x: x.day, df_res.index.date))\n",
    "# df_res['month'] = list(map(lambda x: x.month, df_res.index.date))\n",
    "# df_res['year'] = list(map(lambda x: x.year, df_res.index.date))\n",
    "\n",
    "lags = 10\n",
    "fig, axes = plt.subplots(3, 4, figsize=(20, 20))\n",
    "\n",
    "for i, c in enumerate(countries):\n",
    "    \n",
    "    df_res = decompositions['Residual']\n",
    "    \n",
    "    sm.graphics.tsa.plot_acf(df_res[c].values.tolist(), lags = lags,  ax = axes[i, 0])\n",
    "    sm.graphics.tsa.plot_pacf(df_res[c].values.tolist(), lags = lags,  ax = axes[i, 1])\n",
    "    \n",
    "    df_res[c].hist(ax = axes[i, 2])\n",
    "\n",
    "    df_tmp = pd.DataFrame(index=idx)\n",
    "    df_tmp[c] = df_res[c]\n",
    "    df_tmp['month'] =  list(map(lambda x: x.month, df_res.index.date))\n",
    "    df_tmp.boxplot(column = c , by = 'month', ax = axes[i, 3])\n",
    "    \n",
    "plt.suptitle(\"\")"
   ]
  },
  {
   "cell_type": "code",
   "execution_count": null,
   "metadata": {},
   "outputs": [],
   "source": [
    "for i, c in enumerate(countries):\n",
    "    df_res = decompositions['Residual']\n",
    "    \n",
    "    df_tmp = pd.DataFrame(index=idx)\n",
    "    df_tmp[c] = df_res[c]\n",
    "    df_tmp['month'] =  list(map(lambda x: x.month, df_res.index.date))\n",
    "\n",
    "    fig, axes = plt.subplots(nrows=1, ncols=12, sharex=True, sharey=True, figsize=(24, 2))\n",
    "    df_tmp.hist(column = c, by='month', ax=axes)\n",
    "    fig.text(0.5, 1.1, c, ha='center')\n",
    "    fig.text(0.04, 0.5, 'sales', va='center', rotation='vertical')\n",
    "    #     plt.suptitle('Your Title Here', x=0.5, y=1.03, ha='center', fontsize='xx-large')\n"
   ]
  },
  {
   "cell_type": "markdown",
   "metadata": {},
   "source": [
    "### Applying Moving Average, Moving Std , Autocorrelation, Partial Autocorrelation and Dickey-Fuller test"
   ]
  },
  {
   "cell_type": "code",
   "execution_count": null,
   "metadata": {},
   "outputs": [],
   "source": [
    "# from pandas.plotting import autocorrelation_plot\n",
    "#     autocorrelation_plot(df_selected_fields.xs(c), ax = axes[i, 1])\n",
    "\n",
    "from statsmodels.tsa.stattools import adfuller\n",
    "\n",
    "df_sales_by_country_date.sort_index(inplace=True)\n",
    "\n",
    "fmt_sales = \"{}_Sales\"\n",
    "fmt_mean = \"{}_Rolling_Mean\"\n",
    "fmt_std = \"{}_Rolling_Std\"\n",
    "\n",
    "window = 12\n",
    "lags = 7\n",
    "\n",
    "f, axes = plt.subplots(len(countries), 3, figsize=(20, 20)) \n",
    "for i, c in enumerate(countries):\n",
    "    df_tmp = pd.DataFrame(index=idx)\n",
    "\n",
    "    ncol = fmt_sales.format(c)\n",
    "    df_tmp[ncol] = df_sales_by_country_date.xs(c)\n",
    "    \n",
    "    ncol = fmt_mean.format(c)\n",
    "    df_mean = df_sales_by_country_date.xs(c).rolling(window = window, center = False).mean()\n",
    "    df_tmp[ncol] = df_mean\n",
    "    \n",
    "    ncol = fmt_std.format(c)\n",
    "    df_std = df_sales_by_country_date.xs(c).rolling(window = window, center = False).std()\n",
    "    df_tmp[ncol] = df_std\n",
    "    \n",
    "    df_tmp.plot(title = c, ax = axes[i, 0])\n",
    "    sm.graphics.tsa.plot_acf(df_sales_by_country_date.xs(c), lags = lags,  ax = axes[i, 1])\n",
    "    sm.graphics.tsa.plot_pacf(df_sales_by_country_date.xs(c), lags = lags,  ax = axes[i, 2])\n",
    "    \n",
    "#Perform Dickey-Fuller test:\n",
    "for i, c in enumerate(countries):\n",
    "    print('Results of Dickey-Fuller Test [{}]:'.format(c))\n",
    "    dftest = adfuller(df_sales_by_country_date.xs(c).values, autolag='AIC', maxlag = lags)\n",
    "    dfoutput = pd.Series(dftest[0:4], index=['Test Statistic','p-value','#Lags Used','Number of Observations Used'])\n",
    "    for key,value in dftest[4].items():\n",
    "        dfoutput['Critical Value ({})'.format(key)] = value\n",
    "    display(dfoutput)\n",
    "    "
   ]
  },
  {
   "cell_type": "markdown",
   "metadata": {},
   "source": [
    "# Building Models for Each Country by SARIMAX"
   ]
  },
  {
   "cell_type": "code",
   "execution_count": null,
   "metadata": {
    "scrolled": false
   },
   "outputs": [],
   "source": [
    "models = {}\n",
    "\n",
    "for i, c in enumerate(countries):\n",
    "    mod = sm.tsa.statespace.SARIMAX(df_sales_by_country_date.xs(c), trend='ct', order=(4,1,0), seasonal_order=(0,1,1,7))\n",
    "    results = mod.fit()\n",
    "    models[c] = results\n",
    "    display(results.summary())\n",
    "    \n",
    "fig, axes = plt.subplots(len(countries), 1) \n",
    "for i, c in enumerate(countries):\n",
    "    results = models[c]\n",
    "    r = pd.DataFrame(index=idx)\n",
    "    r[c] = df_sales_by_country_date.xs(c)\n",
    "    pred = models[c].get_prediction(start=0)\n",
    "    pred_ci = pred.conf_int()\n",
    "    r['Forecast_' + c] = pred.predicted_mean\n",
    "    ax = axes[i]\n",
    "    r.plot(figsize=(10, 15), ax = ax, sharey=True, alpha=.7)\n",
    "    ax.fill_between(pred_ci.index, pred_ci.iloc[:, 0], pred_ci.iloc[:, 1], color='k', alpha=.1)\n",
    "\n",
    "    plt.legend()\n",
    "    sns.despine()"
   ]
  },
  {
   "cell_type": "code",
   "execution_count": null,
   "metadata": {},
   "outputs": [],
   "source": []
  }
 ],
 "metadata": {
  "kernelspec": {
   "display_name": "Python 3",
   "language": "python",
   "name": "python3"
  },
  "language_info": {
   "codemirror_mode": {
    "name": "ipython",
    "version": 3
   },
   "file_extension": ".py",
   "mimetype": "text/x-python",
   "name": "python",
   "nbconvert_exporter": "python",
   "pygments_lexer": "ipython3",
   "version": "3.7.5"
  }
 },
 "nbformat": 4,
 "nbformat_minor": 2
}
